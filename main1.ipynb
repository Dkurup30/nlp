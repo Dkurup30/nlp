{
 "cells": [
  {
   "cell_type": "code",
   "execution_count": null,
   "id": "98e98fe7",
   "metadata": {},
   "outputs": [
    {
     "name": "stderr",
     "output_type": "stream",
     "text": [
      "c:\\Users\\kurup\\AppData\\Local\\Programs\\Python\\Python312\\Lib\\site-packages\\tqdm\\auto.py:21: TqdmWarning: IProgress not found. Please update jupyter and ipywidgets. See https://ipywidgets.readthedocs.io/en/stable/user_install.html\n",
      "  from .autonotebook import tqdm as notebook_tqdm\n",
      "c:\\Users\\kurup\\AppData\\Local\\Programs\\Python\\Python312\\Lib\\site-packages\\torch\\utils\\_pytree.py:185: FutureWarning: optree is installed but the version is too old to support PyTorch Dynamo in C++ pytree. C++ pytree support is disabled. Please consider upgrading optree using `python3 -m pip install --upgrade 'optree>=0.13.0'`.\n",
      "  warnings.warn(\n",
      "Device set to use cpu\n",
      "c:\\Users\\kurup\\AppData\\Local\\Programs\\Python\\Python312\\Lib\\site-packages\\transformers\\pipelines\\token_classification.py:170: UserWarning: `grouped_entities` is deprecated and will be removed in version v5.0.0, defaulted to `aggregation_strategy=\"AggregationStrategy.SIMPLE\"` instead.\n",
      "  warnings.warn(\n"
     ]
    },
    {
     "name": "stdout",
     "output_type": "stream",
     "text": [
      "* Running on local URL:  http://127.0.0.1:7864\n",
      "\n",
      "To create a public link, set `share=True` in `launch()`.\n"
     ]
    },
    {
     "data": {
      "text/html": [
       "<div><iframe src=\"http://127.0.0.1:7864/\" width=\"100%\" height=\"500\" allow=\"autoplay; camera; microphone; clipboard-read; clipboard-write;\" frameborder=\"0\" allowfullscreen></iframe></div>"
      ],
      "text/plain": [
       "<IPython.core.display.HTML object>"
      ]
     },
     "metadata": {},
     "output_type": "display_data"
    },
    {
     "data": {
      "text/plain": []
     },
     "execution_count": 1,
     "metadata": {},
     "output_type": "execute_result"
    },
    {
     "name": "stderr",
     "output_type": "stream",
     "text": [
      "c:\\Users\\kurup\\AppData\\Local\\Programs\\Python\\Python312\\Lib\\site-packages\\sklearn\\base.py:493: UserWarning: X does not have valid feature names, but RandomForestClassifier was fitted with feature names\n",
      "  warnings.warn(\n",
      "c:\\Users\\kurup\\AppData\\Local\\Programs\\Python\\Python312\\Lib\\site-packages\\sklearn\\base.py:493: UserWarning: X does not have valid feature names, but RandomForestClassifier was fitted with feature names\n",
      "  warnings.warn(\n"
     ]
    }
   ],
   "source": [
    "import gradio as gr\n",
    "import os\n",
    "import requests\n",
    "import pandas as pd\n",
    "import numpy as np\n",
    "from dotenv import load_dotenv\n",
    "from datetime import datetime\n",
    "from transformers import pipeline, AutoTokenizer, AutoModelForTokenClassification\n",
    "from sentence_transformers import SentenceTransformer, util\n",
    "from sklearn.ensemble import RandomForestClassifier\n",
    "from sklearn.preprocessing import LabelEncoder\n",
    "from sklearn.model_selection import train_test_split\n",
    "\n",
    "# ✅ Load environment variables\n",
    "load_dotenv()\n",
    "API_KEY = os.getenv(\"OPENWEATHER_API_KEY\")\n",
    "\n",
    "# ✅ Load dataset and train model\n",
    "df = pd.read_csv(\"Crop_recommendation.csv\")\n",
    "X = df[[\"temperature\", \"humidity\"]]\n",
    "y = df[\"label\"]\n",
    "label_encoder = LabelEncoder()\n",
    "y_encoded = label_encoder.fit_transform(y)\n",
    "X_train, X_test, y_train, y_test = train_test_split(X, y_encoded, test_size=0.2)\n",
    "model = RandomForestClassifier()\n",
    "model.fit(X_train, y_train)\n",
    "\n",
    "# ✅ NER Setup\n",
    "ner_model_name = \"Davlan/bert-base-multilingual-cased-ner-hrl\"\n",
    "tokenizer = AutoTokenizer.from_pretrained(ner_model_name)\n",
    "ner_model = AutoModelForTokenClassification.from_pretrained(ner_model_name)\n",
    "ner_pipeline = pipeline(\"ner\", model=ner_model, tokenizer=tokenizer, grouped_entities=True)\n",
    "\n",
    "# ✅ Sentence Embedding WSD\n",
    "wsd_model = SentenceTransformer('all-MiniLM-L6-v2')\n",
    "sense_inventory = {\n",
    "    \"plant_1\": \"a living organism like a crop or tree\",\n",
    "    \"plant_2\": \"an industrial facility such as a pesticide plant\",\n",
    "    \"spray_1\": \"the act of spraying liquid on crops\",\n",
    "    \"spray_2\": \"a physical pesticide product in a bottle\"\n",
    "}\n",
    "\n",
    "def disambiguate_word(context_sentence, word):\n",
    "    senses = [k for k in sense_inventory if k.startswith(word)]\n",
    "    if not senses:\n",
    "        return None\n",
    "    context_emb = wsd_model.encode(context_sentence, convert_to_tensor=True)\n",
    "    best_sense, best_score = None, -1\n",
    "    for sense_key in senses:\n",
    "        gloss_emb = wsd_model.encode(sense_inventory[sense_key], convert_to_tensor=True)\n",
    "        score = util.pytorch_cos_sim(context_emb, gloss_emb).item()\n",
    "        if score > best_score:\n",
    "            best_sense = sense_key\n",
    "            best_score = score\n",
    "    return best_sense\n",
    "\n",
    "# ✅ Extract location\n",
    "def extract_location(text):\n",
    "    entities = ner_pipeline(text)\n",
    "    for ent in entities:\n",
    "        if ent[\"entity_group\"] == \"LOC\":\n",
    "            return ent[\"word\"]\n",
    "    return None\n",
    "\n",
    "# ✅ Weather Fetching\n",
    "def get_weather_data(location):\n",
    "    try:\n",
    "        url = f\"http://api.openweathermap.org/data/2.5/weather?q={location}&appid={API_KEY}&units=metric\"\n",
    "        res = requests.get(url).json()\n",
    "        if res.get(\"cod\") != 200:\n",
    "            return None, None, None\n",
    "        return res['weather'][0]['description'], res['main']['temp'], res['main']['humidity']\n",
    "    except:\n",
    "        return None, None, None\n",
    "\n",
    "# ✅ Main Query Handler\n",
    "def handle_query(query):\n",
    "    if not query.strip():\n",
    "        return \"❌ Please enter a valid query.\"\n",
    "\n",
    "    # Disambiguation\n",
    "    if \"plant\" in query.lower():\n",
    "        sense = disambiguate_word(query, \"plant\")\n",
    "        if sense == \"plant_2\":\n",
    "            return \"Did you mean a factory? For crops, please rephrase your question.\"\n",
    "\n",
    "    # Extract location\n",
    "    location = extract_location(query)\n",
    "    if not location:\n",
    "        return \"❌ Could not detect a location. Please include a city name in your query.\"\n",
    "\n",
    "    weather_desc, temp, humidity = get_weather_data(location)\n",
    "    if temp is None:\n",
    "        return f\"⚠️ Couldn't fetch weather for {location}. Please try another location.\"\n",
    "\n",
    "    # Crop or Weather intent\n",
    "    crop_keywords = [\"crop\", \"grow\", \"plant\", \"farming\", \"recommend\"]\n",
    "    weather_keywords = [\"weather\", \"temperature\", \"climate\", \"humid\", \"rain\", \"forecast\"]\n",
    "\n",
    "    if any(word in query.lower() for word in crop_keywords):\n",
    "        # Predict crop\n",
    "        input_data = np.array([[temp, humidity]])\n",
    "        crop_encoded = model.predict(input_data)[0]\n",
    "        crop_label = label_encoder.inverse_transform([crop_encoded])[0]\n",
    "        return f\"📍 **City**: {location}\\n🌤️ **Weather**: {weather_desc}\\n🌡️ **Temperature**: {temp}°C\\n💧 **Humidity**: {humidity}%\\n🌱 **Recommended Crop**: {crop_label}\"\n",
    "\n",
    "    elif any(word in query.lower() for word in weather_keywords):\n",
    "        return f\"📍 **City**: {location}\\n🌤️ **Weather**: {weather_desc}\\n🌡️ **Temperature**: {temp}°C\\n💧 **Humidity**: {humidity}%\"\n",
    "\n",
    "    else:\n",
    "        return f\"📍 **City**: {location}\\n🌤️ **Weather**: {weather_desc}\\n🌡️ **Temperature**: {temp}°C\\n💧 **Humidity**: {humidity}%\"\n",
    "\n",
    "# ✅ Gradio Interface\n",
    "demo = gr.Interface(\n",
    "    fn=handle_query,\n",
    "    inputs=gr.Textbox(lines=2, placeholder=\"Ask about crops or weather...\"),\n",
    "    outputs=\"text\",\n",
    "    title=\"🌾 Smart AgriBot\",\n",
    "    description=\"Ask about crops or weather in your city. E.g. 'What crop should I grow in Pune?' or 'Tell me the weather in Delhi.'\"\n",
    ")\n",
    "\n",
    "demo.launch()\n"
   ]
  }
 ],
 "metadata": {
  "kernelspec": {
   "display_name": "Python 3",
   "language": "python",
   "name": "python3"
  },
  "language_info": {
   "codemirror_mode": {
    "name": "ipython",
    "version": 3
   },
   "file_extension": ".py",
   "mimetype": "text/x-python",
   "name": "python",
   "nbconvert_exporter": "python",
   "pygments_lexer": "ipython3",
   "version": "3.12.0"
  }
 },
 "nbformat": 4,
 "nbformat_minor": 5
}
